{
 "cells": [
  {
   "cell_type": "code",
   "execution_count": 1,
   "id": "95298f30-be6c-4023-9b38-c2cd770c937f",
   "metadata": {},
   "outputs": [
    {
     "name": "stderr",
     "output_type": "stream",
     "text": [
      "/home/pinakpani/.local/lib/python3.8/site-packages/tqdm/auto.py:22: TqdmWarning: IProgress not found. Please update jupyter and ipywidgets. See https://ipywidgets.readthedocs.io/en/stable/user_install.html\n",
      "  from .autonotebook import tqdm as notebook_tqdm\n"
     ]
    }
   ],
   "source": [
    "from pydub import AudioSegment\n",
    "import torch, torchaudio\n",
    "import os\n",
    "import math\n",
    "\n",
    "\n",
    "def combine_waves(paths):\n",
    "    filenames = []\n",
    "    for path in paths:\n",
    "        filenames.append(path[:-4].split(\"/\")[-1])\n",
    "\n",
    "    combined = AudioSegment.from_wav(paths[0])\n",
    "    for i in range(1, len(paths)):\n",
    "        combined = combined.overlay(AudioSegment.from_wav(paths[i]))\n",
    "\n",
    "    output_dir = f\"{'/'.join(paths[0].split('/')[:-2])}/combined\"\n",
    "\n",
    "    final_path = f\"{output_dir}/{'_'.join(filenames)}_combined_sound.wav\"\n",
    "    combined.export(final_path)\n",
    "    return final_path\n",
    "\n",
    "\n",
    "def sum_spl(spls):\n",
    "    intensity = 0\n",
    "    for spl in spls:\n",
    "        intensity = intensity + (10 ** ((spl / 10) - 12))\n",
    "\n",
    "    return 10 * math.log((intensity * (10 ** 12)), 10)\n",
    "\n",
    "\n",
    "def get_file(wav_name):\n",
    "    waveform, sr = torchaudio.load(wav_name)\n",
    "    assert sr == 16000, 'input audio sampling rate must be 16kHz'\n",
    "    return waveform, sr\n",
    "\n",
    "\n",
    "def make_features(waveform, sr, mel_bins, target_length=1024):\n",
    "    fbank = torchaudio.compliance.kaldi.fbank(\n",
    "        waveform, htk_compat=True, sample_frequency=sr, use_energy=False,\n",
    "        window_type='hanning', num_mel_bins=mel_bins, dither=0.0, frame_shift=10)\n",
    "\n",
    "    n_frames = fbank.shape[0]\n",
    "\n",
    "    p = target_length - n_frames\n",
    "    if p > 0:\n",
    "        m = torch.nn.ZeroPad2d((0, 0, 0, p))\n",
    "        fbank = m(fbank)\n",
    "    elif p < 0:\n",
    "        fbank = fbank[0:target_length, :]\n",
    "\n",
    "    fbank = (fbank - (-4.2677393)) / (4.5689974 * 2)\n",
    "    return fbank\n",
    "\n",
    "\n",
    "def decrease_volume(wav_file_path, decrease_value):\n",
    "    raw_path = wav_file_path[:-4]\n",
    "    folder_path = raw_path.split(\"/\")[:-1]\n",
    "    file_name = raw_path.split(\"/\")[-1]\n",
    "    if not os.path.isdir(f\"{raw_path}\"):\n",
    "        os.mkdir(f\"{raw_path}\")\n",
    "    output_path = f\"{'/'.join(folder_path)}/{file_name}/{file_name}_quieter_{str(decrease_value)[:7].replace('.', '_')}.wav\"\n",
    "    if not os.path.isfile(output_path):\n",
    "        sound = AudioSegment.from_wav(wav_file_path)\n",
    "        new_sound = sound - decrease_value\n",
    "        new_sound.export(output_path, \"wav\")\n",
    "    return output_path\n",
    "\n",
    "\n",
    "class Point:\n",
    "    def __init__(self, x_pos=None, y_pos=None, signal_path=None, signal_features_data=None, spl=None,\n",
    "                 output_status=None):\n",
    "        self.x_pos = x_pos\n",
    "        self.y_pos = y_pos\n",
    "        self.signal_path = signal_path\n",
    "        self.signal_features_data = signal_features_data\n",
    "        self.spl = spl\n",
    "        self.output_status = output_status\n",
    "\n",
    "\n",
    "# define a mesh\n",
    "\n",
    "class Mesh:\n",
    "    def __init__(self, x_length=10, y_length=10, x_tick=1, y_tick=1):\n",
    "        self.x_length = x_length\n",
    "        self.y_length = y_length\n",
    "        self.x_tick = x_tick\n",
    "        self.y_tick = y_tick\n",
    "        self.mesh = self.initialize_mesh(x_length, y_length, x_tick, y_tick)\n",
    "        self.sources = []\n",
    "\n",
    "    def initialize_mesh(self, x_length, y_length, x_tick, y_tick):\n",
    "        return_array = []\n",
    "        for i in range(0, int(x_length / x_tick)):\n",
    "            temp_arr = []\n",
    "            for j in range(0, int(y_length / y_tick)):\n",
    "                temp_arr.append(Point(x_pos=i, y_pos=j))\n",
    "            return_array.append(temp_arr)\n",
    "        return return_array\n",
    "\n",
    "    def set_source(self, audio_file_path, x=5, y=5, initial_spl_at_src=100):\n",
    "        source_dict = {}\n",
    "        source_dict[\"source_x\"] = x\n",
    "        source_dict[\"source_y\"] = y\n",
    "        source_dict[\"src_audio_file\"] = audio_file_path\n",
    "        source_dict[\"src_spl\"] = initial_spl_at_src\n",
    "        self.sources.append(source_dict)\n",
    "        # self.mesh[self.source_x][self.source_y].spl = initial_spl_at_src\n",
    "        # self.mesh[self.source_x][self.source_y].signal_path = audio_file_path\n",
    "        # waveform_src, sr_src = get_file(audio_file_path)\n",
    "        # self.mesh[self.source_x][self.source_y].signal_features_data = make_features(waveform_src, sr_src,\n",
    "        #                                                                             mel_bins=128)\n",
    "        return self\n",
    "\n",
    "    def create_spls(self):\n",
    "        if self.sources == []:\n",
    "            assert \"Cannot calculate Sound Pressure Levels as no sources are provided.\"\n",
    "\n",
    "        for i in range(0, int(self.x_length / self.x_tick)):\n",
    "            for j in range(0, int(self.y_length / self.y_tick)):\n",
    "                signals = []\n",
    "                spls = []\n",
    "\n",
    "                for source in self.sources:\n",
    "                    euclidian_distance = math.sqrt((source[\"source_x\"] - i) ** 2 + (source[\"source_y\"] - j) ** 2)\n",
    "                    if euclidian_distance == 0.0:\n",
    "                           change_in_spl = 0\n",
    "                    else:\n",
    "                        change_in_spl = 20 * math.log((euclidian_distance / 0.1), 10)\n",
    "                    decreased_volume_file_path = decrease_volume(source[\"src_audio_file\"], change_in_spl)\n",
    "                    signals.append(decreased_volume_file_path)\n",
    "                    spls.append(source[\"src_spl\"] - change_in_spl)\n",
    "\n",
    "                self.mesh[i][j].signal_path = combine_waves(signals)\n",
    "                self.mesh[i][j].spl = sum_spl(spls)\n",
    "                waveform_src, sr_src = get_file(self.mesh[i][j].signal_path)\n",
    "                self.mesh[i][j].signal_features_data = make_features(waveform_src, sr_src, mel_bins=128)\n",
    "        print(\"created SPLS.\")"
   ]
  },
  {
   "cell_type": "code",
   "execution_count": 2,
   "id": "57fd5374-1c4a-4c35-b390-bb1b2a029533",
   "metadata": {},
   "outputs": [],
   "source": [
    "import csv\n",
    "import torch\n",
    "from src.models import ASTModel\n",
    "from torch.cuda.amp import autocast\n",
    "import numpy as np\n",
    "from collections import OrderedDict"
   ]
  },
  {
   "cell_type": "code",
   "execution_count": 3,
   "id": "182040be-0765-47a5-824d-98251199d860",
   "metadata": {},
   "outputs": [
    {
     "name": "stdout",
     "output_type": "stream",
     "text": [
      "---------------AST Model Summary---------------\n",
      "ImageNet pretraining: False, AudioSet pretraining: False\n",
      "frequncey stride=10, time stride=10\n",
      "number of patches=1212\n",
      "[*INFO] load checkpoint: ./pretrained_models/audio_mdl.pth\n"
     ]
    }
   ],
   "source": [
    "class ASTModelVis(ASTModel):\n",
    "    def get_att_map(self, block, x):\n",
    "        qkv = block.attn.qkv\n",
    "        num_heads = block.attn.num_heads\n",
    "        scale = block.attn.scale\n",
    "        B, N, C = x.shape\n",
    "        qkv = qkv(x).reshape(B, N, 3, num_heads, C // num_heads).permute(2, 0, 3, 1, 4)\n",
    "        q, k, v = qkv[0], qkv[1], qkv[2]  # make torchscript happy (cannot use tensor as tuple)\n",
    "        attn = (q @ k.transpose(-2, -1)) * scale\n",
    "        attn = attn.softmax(dim=-1)\n",
    "        return attn\n",
    "\n",
    "    def forward_visualization(self, x):\n",
    "        # expect input x = (batch_size, time_frame_num, frequency_bins), e.g., (12, 1024, 128)\n",
    "        x = x.unsqueeze(1)\n",
    "        x = x.transpose(2, 3)\n",
    "\n",
    "        B = x.shape[0]\n",
    "        x = self.v.patch_embed(x)\n",
    "        cls_tokens = self.v.cls_token.expand(B, -1, -1)\n",
    "        dist_token = self.v.dist_token.expand(B, -1, -1)\n",
    "        x = torch.cat((cls_tokens, dist_token, x), dim=1)\n",
    "        x = x + self.v.pos_embed\n",
    "        x = self.v.pos_drop(x)\n",
    "        # save the attention map of each of 12 Transformer layer\n",
    "        att_list = []\n",
    "        for blk in self.v.blocks:\n",
    "            cur_att = self.get_att_map(blk, x)\n",
    "            att_list.append(cur_att)\n",
    "            x = blk(x)\n",
    "        return att_list\n",
    "\n",
    "\n",
    "def load_label(label_csv):\n",
    "    with open(label_csv, 'r') as f:\n",
    "        reader = csv.reader(f, delimiter=',')\n",
    "        lines = list(reader)\n",
    "    labels = []\n",
    "    ids = []  # Each label has a unique id such as \"/m/068hy\"\n",
    "    for i1 in range(1, len(lines)):\n",
    "        id = lines[i1][1]\n",
    "        label = lines[i1][2]\n",
    "        ids.append(id)\n",
    "        labels.append(label)\n",
    "    return labels\n",
    "\n",
    "\n",
    "input_tdim = 1024\n",
    "checkpoint_path = './pretrained_models/audio_mdl.pth'\n",
    "ast_mdl = ASTModelVis(label_dim=527, input_tdim=input_tdim, imagenet_pretrain=False, audioset_pretrain=False)\n",
    "print(f'[*INFO] load checkpoint: {checkpoint_path}')\n",
    "checkpoint = torch.load(checkpoint_path, map_location='cuda')\n",
    "audio_model = torch.nn.DataParallel(ast_mdl, device_ids=[0])\n",
    "audio_model.load_state_dict(checkpoint)\n",
    "audio_model = audio_model.to(torch.device(\"cuda:0\"))\n",
    "audio_model.eval()\n",
    "label_csv = './egs/audioset/data/class_labels_indices.csv'\n",
    "labels = load_label(label_csv)"
   ]
  },
  {
   "cell_type": "code",
   "execution_count": 15,
   "id": "0e146afc-278b-47bd-b60a-f7885b84a8ae",
   "metadata": {},
   "outputs": [],
   "source": [
    "x_length = 30\n",
    "y_length = 30\n",
    "src_1_x = 15\n",
    "src_1_y = 10\n",
    "\n",
    "src_2_x = 25\n",
    "src_2_y = 25"
   ]
  },
  {
   "cell_type": "code",
   "execution_count": 16,
   "id": "9669b190-495f-4f5f-bcc9-28880a06abab",
   "metadata": {},
   "outputs": [],
   "source": [
    "def run_simulation():\n",
    "    simulated_mesh = Mesh(x_length, y_length, x_tick=1, y_tick=1)\n",
    "\n",
    "    simulated_mesh.set_source(audio_file_path=\"./sample_audios/simulation_audio/angry-dog.wav\", x=src_1_x,\n",
    "                              y=src_1_y, initial_spl_at_src=110)\n",
    "    simulated_mesh.set_source(audio_file_path=\"./sample_audios/simulation_audio/angry-crowd.wav\", x=src_2_x,\n",
    "                              y=src_2_y, initial_spl_at_src=110)\n",
    "    simulated_mesh.create_spls()\n",
    "\n",
    "    for i in range(0, x_length):\n",
    "        for j in range(0, y_length):\n",
    "            with torch.no_grad():\n",
    "                feats_data = simulated_mesh.mesh[i][j].signal_features_data.expand(1, input_tdim,\n",
    "                                                                                   128)  # reshape the feature\n",
    "                feats_data = feats_data.to(torch.device(\"cuda:0\"))\n",
    "                with autocast():\n",
    "                    output = audio_model.forward(feats_data)\n",
    "                    output = torch.sigmoid(output)\n",
    "                    result_output = output.data.cpu().numpy()[0]\n",
    "                    sorted_indexes = np.argsort(result_output)[::-1]\n",
    "                    return_dict = OrderedDict()\n",
    "                    for k in range(10):\n",
    "                        return_dict[f\"{np.array(labels)[sorted_indexes[k]]}\"] = result_output[sorted_indexes[k]] * \\\n",
    "                                                                                simulated_mesh.mesh[i][j].spl\n",
    "                    simulated_mesh.mesh[i][j].output_status = return_dict\n",
    "\n",
    "    src_dict = simulated_mesh.mesh[int((src_1_x + src_2_x) / 2)][int((src_1_y + src_2_y) / 2)].output_status\n",
    "    for output_name in list(src_dict.keys()):\n",
    "        with open(f'./output_values/{output_name}.txt', 'w') as f:\n",
    "            for i in range(0, x_length):\n",
    "                for j in range(0, y_length):\n",
    "                    f.write(f\"{i} {j} {simulated_mesh.mesh[i][j].output_status.get(f'{output_name}', 0)}\\n\")"
   ]
  },
  {
   "cell_type": "code",
   "execution_count": 17,
   "id": "7235d03d-288c-4fdd-a794-9e35ffba5a2e",
   "metadata": {},
   "outputs": [
    {
     "name": "stdout",
     "output_type": "stream",
     "text": [
      "created SPLS.\n"
     ]
    }
   ],
   "source": [
    "run_simulation()"
   ]
  },
  {
   "cell_type": "code",
   "execution_count": 10,
   "id": "611c86c8-127e-416c-9c39-b68656899395",
   "metadata": {},
   "outputs": [],
   "source": [
    "import matplotlib.pyplot as plt\n",
    "import matplotlib.cm as cm\n",
    "from matplotlib.colors import LogNorm\n",
    "import numpy as np"
   ]
  },
  {
   "cell_type": "code",
   "execution_count": 18,
   "id": "ed3ef62c-18f2-41f6-8a37-1cb68461881d",
   "metadata": {},
   "outputs": [
    {
     "data": {
      "image/png": "[encoded data removed]",
      "text/plain": [
       "<Figure size 640x480 with 2 Axes>"
      ]
     },
     "metadata": {},
     "output_type": "display_data"
    }
   ],
   "source": [
    "x, y, z = np.loadtxt('output_values/Crowd.txt', unpack=True)\n",
    "N = int(len(z)**.5)\n",
    "z = z.reshape(N, N)\n",
    "plt.imshow(z+10, extent=(np.amin(x), np.amax(x), np.amin(y), np.amax(y)),\n",
    "        cmap=cm.hot, norm=LogNorm())\n",
    "plt.title(\"Heatmap of Crowd\")\n",
    "plt.colorbar()\n",
    "plt.show()"
   ]
  },
  {
   "cell_type": "code",
   "execution_count": 19,
   "id": "235ec93a-69d0-46ff-9716-0a0feb829ef1",
   "metadata": {},
   "outputs": [
    {
     "data": {
      "image/png": "[encoded data removed]",
      "text/plain": [
       "<Figure size 640x480 with 2 Axes>"
      ]
     },
     "metadata": {},
     "output_type": "display_data"
    }
   ],
   "source": [
    "x, y, z = np.loadtxt('output_values/Animal.txt', unpack=True)\n",
    "N = int(len(z)**.5)\n",
    "z = z.reshape(N, N)\n",
    "plt.imshow(z+10, extent=(np.amin(x), np.amax(x), np.amin(y), np.amax(y)),\n",
    "        cmap=cm.hot, norm=LogNorm())\n",
    "plt.title(\"Heatmap of Animal\")\n",
    "plt.colorbar()\n",
    "plt.show()"
   ]
  },
  {
   "cell_type": "code",
   "execution_count": 20,
   "id": "9f3462f7-9954-4b36-9d35-5356f2c70e17",
   "metadata": {},
   "outputs": [
    {
     "data": {
      "image/png": "[encoded data removed]",
      "text/plain": [
       "<Figure size 640x480 with 2 Axes>"
      ]
     },
     "metadata": {},
     "output_type": "display_data"
    }
   ],
   "source": [
    "x, y, z = np.loadtxt('output_values/Animal.txt', unpack=True)\n",
    "N = int(len(z)**.5)\n",
    "z = z.reshape(N, N)\n",
    "plt.imshow(z+10, extent=(np.amin(x), np.amax(x), np.amin(y), np.amax(y)),\n",
    "        cmap=cm.hot, norm=LogNorm())\n",
    "plt.title(\"Heatmap of Dog\")\n",
    "plt.colorbar()\n",
    "plt.show()"
   ]
  },
  {
   "cell_type": "code",
   "execution_count": 21,
   "id": "16315543-0538-48d9-a2a9-49d839f437be",
   "metadata": {},
   "outputs": [],
   "source": [
    "x_length = 30\n",
    "y_length = 30\n",
    "src_1_x = 15\n",
    "src_1_y = 10\n",
    "\n",
    "src_2_x = 20\n",
    "src_2_y = 5\n",
    "def run_simulation_2():\n",
    "    simulated_mesh = Mesh(x_length, y_length, x_tick=1, y_tick=1)\n",
    "\n",
    "    simulated_mesh.set_source(audio_file_path=\"./sample_audios/simulation_audio_2/angry-crowd.wav\", x=src_1_x,\n",
    "                              y=src_1_y, initial_spl_at_src=110)\n",
    "    simulated_mesh.set_source(audio_file_path=\"./sample_audios/simulation_audio_2/angry-crowd.wav\", x=src_2_x,\n",
    "                              y=src_2_y, initial_spl_at_src=110)\n",
    "    simulated_mesh.create_spls()\n",
    "\n",
    "    for i in range(0, x_length):\n",
    "        for j in range(0, y_length):\n",
    "            with torch.no_grad():\n",
    "                feats_data = simulated_mesh.mesh[i][j].signal_features_data.expand(1, input_tdim,\n",
    "                                                                                   128)  # reshape the feature\n",
    "                feats_data = feats_data.to(torch.device(\"cuda:0\"))\n",
    "                with autocast():\n",
    "                    output = audio_model.forward(feats_data)\n",
    "                    output = torch.sigmoid(output)\n",
    "                    result_output = output.data.cpu().numpy()[0]\n",
    "                    sorted_indexes = np.argsort(result_output)[::-1]\n",
    "                    return_dict = OrderedDict()\n",
    "                    for k in range(10):\n",
    "                        return_dict[f\"{np.array(labels)[sorted_indexes[k]]}\"] = result_output[sorted_indexes[k]] * \\\n",
    "                                                                                simulated_mesh.mesh[i][j].spl\n",
    "                    simulated_mesh.mesh[i][j].output_status = return_dict\n",
    "\n",
    "    src_dict = simulated_mesh.mesh[int((src_1_x + src_2_x) / 2)][int((src_1_y + src_2_y) / 2)].output_status\n",
    "    for output_name in list(src_dict.keys()):\n",
    "        with open(f'./output_values_2/{output_name}.txt', 'w') as f:\n",
    "            for i in range(0, x_length):\n",
    "                for j in range(0, y_length):\n",
    "                    f.write(f\"{i} {j} {simulated_mesh.mesh[i][j].output_status.get(f'{output_name}', 0)}\\n\")"
   ]
  },
  {
   "cell_type": "code",
   "execution_count": 23,
   "id": "bbae1df1-2dc1-41ed-9eca-4dd40935a952",
   "metadata": {},
   "outputs": [
    {
     "name": "stdout",
     "output_type": "stream",
     "text": [
      "created SPLS.\n"
     ]
    }
   ],
   "source": [
    "run_simulation_2()"
   ]
  },
  {
   "cell_type": "code",
   "execution_count": 24,
   "id": "8ea5c894-5e25-4094-bf2b-3534ac3ade21",
   "metadata": {},
   "outputs": [
    {
     "data": {
      "image/png": "[encoded data removed]",
      "text/plain": [
       "<Figure size 640x480 with 2 Axes>"
      ]
     },
     "metadata": {},
     "output_type": "display_data"
    }
   ],
   "source": [
    "x, y, z = np.loadtxt('output_values_2/Crowd.txt', unpack=True)\n",
    "N = int(len(z)**.5)\n",
    "z = z.reshape(N, N)\n",
    "plt.imshow(z+10, extent=(np.amin(x), np.amax(x), np.amin(y), np.amax(y)),\n",
    "        cmap=cm.hot, norm=LogNorm())\n",
    "plt.title(\"Heatmap of Crowd\")\n",
    "plt.colorbar()\n",
    "plt.show()"
   ]
  },
  {
   "cell_type": "code",
   "execution_count": 4,
   "id": "47d89af1-cc53-4ab0-8dea-1d7813d1fd36",
   "metadata": {},
   "outputs": [],
   "source": [
    "def run_simulation_3(src_1_x,src_1_y,src_2_x,src_2_y):\n",
    "    simulated_mesh = Mesh(x_length, y_length, x_tick=1, y_tick=1)\n",
    "\n",
    "    simulated_mesh.set_source(audio_file_path=\"./sample_audios/simulation_audio_2/angry-crowd.wav\", x=src_1_x,\n",
    "                              y=src_1_y, initial_spl_at_src=110)\n",
    "    simulated_mesh.set_source(audio_file_path=\"./sample_audios/simulation_audio_2/angry-crowd.wav\", x=src_2_x,\n",
    "                              y=src_2_y, initial_spl_at_src=110)\n",
    "    simulated_mesh.create_spls()\n",
    "\n",
    "    for i in range(0, x_length):\n",
    "        for j in range(0, y_length):\n",
    "            with torch.no_grad():\n",
    "                feats_data = simulated_mesh.mesh[i][j].signal_features_data.expand(1, input_tdim,\n",
    "                                                                                   128)  # reshape the feature\n",
    "                feats_data = feats_data.to(torch.device(\"cuda:0\"))\n",
    "                with autocast():\n",
    "                    output = audio_model.forward(feats_data)\n",
    "                    output = torch.sigmoid(output)\n",
    "                    result_output = output.data.cpu().numpy()[0]\n",
    "                    sorted_indexes = np.argsort(result_output)[::-1]\n",
    "                    return_dict = OrderedDict()\n",
    "                    for k in range(10):\n",
    "                        return_dict[f\"{np.array(labels)[sorted_indexes[k]]}\"] = result_output[sorted_indexes[k]] * \\\n",
    "                                                                                simulated_mesh.mesh[i][j].spl\n",
    "                    simulated_mesh.mesh[i][j].output_status = return_dict\n",
    "\n",
    "    src_dict = simulated_mesh.mesh[int((src_1_x + src_2_x) / 2)][int((src_1_y + src_2_y) / 2)].output_status\n",
    "    for output_name in list(src_dict.keys()):\n",
    "        with open(f'./crowds_merging/{output_name}_{src_1_x}_{src_1_y}_{src_2_x}_{src_2_y}.txt', 'w') as f:\n",
    "            for i in range(0, x_length):\n",
    "                for j in range(0, y_length):\n",
    "                    f.write(f\"{i} {j} {simulated_mesh.mesh[i][j].output_status.get(f'{output_name}', 0)}\\n\")"
   ]
  },
  {
   "cell_type": "code",
   "execution_count": 7,
   "id": "26130a38-d73d-40cd-b6c0-e60cb3400aae",
   "metadata": {},
   "outputs": [
    {
     "name": "stdout",
     "output_type": "stream",
     "text": [
      "created SPLS.\n",
      "Finished frame 1\n",
      "created SPLS.\n",
      "Finished frame 2\n",
      "created SPLS.\n",
      "Finished frame 3\n",
      "created SPLS.\n",
      "Finished frame 4\n",
      "created SPLS.\n",
      "Finished frame 5\n"
     ]
    }
   ],
   "source": [
    "x_length = 30\n",
    "y_length = 30\n",
    "\n",
    "crowd_1 = [[10,10],[11,11],[12,12],[13,13],[14,14]]\n",
    "crowd_2 = [[20,20],[19,19],[18,18],[17,17],[16,16]]\n",
    "\n",
    "for i in range(len(crowd_1)):\n",
    "    run_simulation_3(crowd_1[i][0],crowd_1[i][1],crowd_2[i][0],crowd_2[i][1])\n",
    "    print(f\"Finished frame {i+1}\")\n"
   ]
  },
  {
   "cell_type": "code",
   "execution_count": 10,
   "id": "5f38ec97-7dab-411e-b990-a50b412e723b",
   "metadata": {},
   "outputs": [],
   "source": [
    "def run_simulation_4(src_1_x,src_1_y,src_2_x,src_2_y):\n",
    "    simulated_mesh = Mesh(x_length, y_length, x_tick=1, y_tick=1)\n",
    "\n",
    "    simulated_mesh.set_source(audio_file_path=\"./sample_audios/simulation_audio_2/angry-crowd.wav\", x=src_1_x,\n",
    "                              y=src_1_y, initial_spl_at_src=110)\n",
    "    simulated_mesh.set_source(audio_file_path=\"./sample_audios/simulation_audio_2/angry-crowd.wav\", x=src_2_x,\n",
    "                              y=src_2_y, initial_spl_at_src=110)\n",
    "    simulated_mesh.create_spls()\n",
    "\n",
    "    for i in range(0, x_length):\n",
    "        for j in range(0, y_length):\n",
    "            with torch.no_grad():\n",
    "                feats_data = simulated_mesh.mesh[i][j].signal_features_data.expand(1, input_tdim,\n",
    "                                                                                   128)  # reshape the feature\n",
    "                feats_data = feats_data.to(torch.device(\"cuda:0\"))\n",
    "                with autocast():\n",
    "                    output = audio_model.forward(feats_data)\n",
    "                    output = torch.sigmoid(output)\n",
    "                    result_output = output.data.cpu().numpy()[0]\n",
    "                    sorted_indexes = np.argsort(result_output)[::-1]\n",
    "                    return_dict = OrderedDict()\n",
    "                    for k in range(10):\n",
    "                        return_dict[f\"{np.array(labels)[sorted_indexes[k]]}\"] = result_output[sorted_indexes[k]] * \\\n",
    "                                                                                simulated_mesh.mesh[i][j].spl\n",
    "                    simulated_mesh.mesh[i][j].output_status = return_dict\n",
    "\n",
    "    src_dict = simulated_mesh.mesh[int((src_1_x + src_2_x) / 2)][int((src_1_y + src_2_y) / 2)].output_status\n",
    "    for output_name in list(src_dict.keys()):\n",
    "        with open(f'./crowds_walking_past/{output_name}_{src_1_x}_{src_1_y}_{src_2_x}_{src_2_y}.txt', 'w') as f:\n",
    "            for i in range(0, x_length):\n",
    "                for j in range(0, y_length):\n",
    "                    f.write(f\"{i} {j} {simulated_mesh.mesh[i][j].output_status.get(f'{output_name}', 0)}\\n\")"
   ]
  },
  {
   "cell_type": "code",
   "execution_count": 11,
   "id": "cabdae4a-37ee-49a1-a79b-3d1b74868a21",
   "metadata": {},
   "outputs": [
    {
     "name": "stdout",
     "output_type": "stream",
     "text": [
      "created SPLS.\n",
      "Finished frame 1\n",
      "created SPLS.\n",
      "Finished frame 2\n",
      "created SPLS.\n",
      "Finished frame 3\n",
      "created SPLS.\n",
      "Finished frame 4\n",
      "created SPLS.\n",
      "Finished frame 5\n",
      "created SPLS.\n",
      "Finished frame 6\n",
      "created SPLS.\n",
      "Finished frame 7\n",
      "created SPLS.\n",
      "Finished frame 8\n"
     ]
    }
   ],
   "source": [
    "x_length = 30\n",
    "y_length = 30\n",
    "\n",
    "crowd_1 = [[10,10],[10,11],[10,12],[10,13],[10,14],[10,15],[10,16],[10,17]]\n",
    "crowd_2 = [[20,20],[20,19],[20,18],[20,17],[20,16],[20,15],[20,14],[20,13]]\n",
    "\n",
    "for i in range(len(crowd_1)):\n",
    "    run_simulation_4(crowd_1[i][0],crowd_1[i][1],crowd_2[i][0],crowd_2[i][1])\n",
    "    print(f\"Finished frame {i+1}\")"
   ]
  },
  {
   "cell_type": "code",
   "execution_count": null,
   "id": "d1956989-ac05-4bba-bc50-3622128ce1a8",
   "metadata": {},
   "outputs": [],
   "source": [
    "def run_simulation_5(src_1_x,src_1_y,src_2_x,src_2_y,src_3_x,src_3_y,src_1_spl,src_2_spl,src_3_spl):\n",
    "    simulated_mesh = Mesh(x_length, y_length, x_tick=1, y_tick=1)\n",
    "\n",
    "    simulated_mesh.set_source(audio_file_path=\"./sample_audios/simulation_audio_2/angry-crowd.wav\", x=src_1_x,\n",
    "                              y=src_1_y, initial_spl_at_src=scr_1_spl)\n",
    "    simulated_mesh.set_source(audio_file_path=\"./sample_audios/simulation_audio_2/angry-crowd.wav\", x=src_2_x,\n",
    "                              y=src_2_y, initial_spl_at_src=scr_2_spl)\n",
    "    simulated_mesh.set_source(audio_file_path=\"./sample_audios/simulation_audio_2/angry-crowd.wav\", x=src_3_x,\n",
    "                              y=src_3_y, initial_spl_at_src=scr_3_spl)\n",
    "    \n",
    "    simulated_mesh.create_spls()\n",
    "\n",
    "    for i in range(0, x_length):\n",
    "        for j in range(0, y_length):\n",
    "            with torch.no_grad():\n",
    "                feats_data = simulated_mesh.mesh[i][j].signal_features_data.expand(1, input_tdim,\n",
    "                                                                                   128)  # reshape the feature\n",
    "                feats_data = feats_data.to(torch.device(\"cuda:0\"))\n",
    "                with autocast():\n",
    "                    output = audio_model.forward(feats_data)\n",
    "                    output = torch.sigmoid(output)\n",
    "                    result_output = output.data.cpu().numpy()[0]\n",
    "                    sorted_indexes = np.argsort(result_output)[::-1]\n",
    "                    return_dict = OrderedDict()\n",
    "                    for k in range(10):\n",
    "                        return_dict[f\"{np.array(labels)[sorted_indexes[k]]}\"] = result_output[sorted_indexes[k]] * \\\n",
    "                                                                                simulated_mesh.mesh[i][j].spl\n",
    "                    simulated_mesh.mesh[i][j].output_status = return_dict\n",
    "\n",
    "    src_dict = simulated_mesh.mesh[int((src_1_x + src_2_x) / 2)][int((src_1_y + src_2_y) / 2)].output_status\n",
    "    for output_name in list(src_dict.keys()):\n",
    "        with open(f'./emergence_of_new_crowd/{output_name}_{src_1_x}_{src_1_y}_{src_2_x}_{src_2_y}_{src_3_x}_{src_3_y}.txt', 'w') as f:\n",
    "            for i in range(0, x_length):\n",
    "                for j in range(0, y_length):\n",
    "                    f.write(f\"{i} {j} {simulated_mesh.mesh[i][j].output_status.get(f'{output_name}', 0)}\\n\")"
   ]
  },
  {
   "cell_type": "code",
   "execution_count": null,
   "id": "67b71594-df20-42ad-95b4-2987b998c944",
   "metadata": {},
   "outputs": [],
   "source": [
    "x_length = 30\n",
    "y_length = 30\n",
    "\n",
    "crowd_1 = [[10,10,110],[10,11,110],[10,12,110],[10,13,110],[10,14,110],[10,15,110],[10,16,110],[10,17,110]]\n",
    "crowd_2 = [[20,20,110],[20,19,110],[20,18,110],[20,17,110],[20,16,110],[20,15,110],[20,14,110],[20,13,110]]\n",
    "crowd_2 = [[25,25,5],[25,25,5],[25,25,5],[25,25,80],[25,25,110],[25,25,70],[25,25,50],[25,25,5]]\n",
    "\n",
    "for i in range(len(crowd_1)):\n",
    "    run_simulation_4(crowd_1[i][0],crowd_1[i][1],crowd_2[i][0],crowd_2[i][1],crowd_3[i][0],crowd_3[i][1],crowd_1[i][2],crowd_2[i][2],crowd_3[i][2])\n",
    "    print(f\"Finished frame {i+1}\")"
   ]
  },
  {
   "cell_type": "code",
   "execution_count": null,
   "id": "191dc757-50bb-4c22-9a2d-232364140508",
   "metadata": {},
   "outputs": [],
   "source": []
  }
 ],
 "metadata": {
  "kernelspec": {
   "display_name": "Python 3 (ipykernel)",
   "language": "python",
   "name": "python3"
  },
  "language_info": {
   "codemirror_mode": {
    "name": "ipython",
    "version": 3
   },
   "file_extension": ".py",
   "mimetype": "text/x-python",
   "name": "python",
   "nbconvert_exporter": "python",
   "pygments_lexer": "ipython3",
   "version": "3.8.10"
  }
 },
 "nbformat": 4,
 "nbformat_minor": 5
}
